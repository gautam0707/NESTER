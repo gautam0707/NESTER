{
 "cells": [
  {
   "cell_type": "code",
   "execution_count": 1,
   "id": "b2c0fb8c",
   "metadata": {},
   "outputs": [],
   "source": [
    "import numpy as np\n",
    "import pandas as pd"
   ]
  },
  {
   "cell_type": "code",
   "execution_count": 2,
   "id": "8b46661a",
   "metadata": {},
   "outputs": [],
   "source": [
    "train = np.load('jobs_train.npz')\n",
    "test = np.load('jobs_test.npz')"
   ]
  },
  {
   "cell_type": "code",
   "execution_count": 3,
   "id": "e3019d32",
   "metadata": {},
   "outputs": [
    {
     "data": {
      "text/plain": [
       "<numpy.lib.npyio.NpzFile at 0x7f03f66b5270>"
      ]
     },
     "execution_count": 3,
     "metadata": {},
     "output_type": "execute_result"
    }
   ],
   "source": [
    "train"
   ]
  },
  {
   "cell_type": "code",
   "execution_count": 4,
   "id": "4f1526e3",
   "metadata": {},
   "outputs": [
    {
     "name": "stdout",
     "output_type": "stream",
     "text": [
      "ate\n",
      "e\n",
      "I\n",
      "yadd\n",
      "yf\n",
      "t\n",
      "x\n",
      "ymul\n"
     ]
    }
   ],
   "source": [
    "for i in train:\n",
    "    print(i)"
   ]
  },
  {
   "cell_type": "code",
   "execution_count": 43,
   "id": "01a81b30",
   "metadata": {},
   "outputs": [],
   "source": [
    "data_cols = [\"treatment\",\"y_factual\",\"e\"]\n",
    "for i in range(1,18):\n",
    "    data_cols.append(\"x\"+str(i))"
   ]
  },
  {
   "cell_type": "code",
   "execution_count": 80,
   "id": "01eb5773",
   "metadata": {},
   "outputs": [],
   "source": [
    "for i in range(10):\n",
    "    train_data = np.concatenate((train['t'][:,i].reshape(-1,1), train['yf'][:,i].reshape(-1,1), train['e'][:,i].reshape(-1,1), train['x'][:,:,i]), axis=1)\n",
    "    test_data = np.concatenate((test['t'][:,i].reshape(-1,1), test['yf'][:,i].reshape(-1,1), test['e'][:,i].reshape(-1,1), test['x'][:,:,i]), axis=1)\n",
    "    \n",
    "    train_data = pd.DataFrame(data = train_data, columns=data_cols)\n",
    "    test_data = pd.DataFrame(data = test_data, columns=data_cols)\n",
    "\n",
    "    train_data.to_csv('jobs_train_'+str(i)+'.csv', index=False)\n",
    "    test_data.to_csv('jobs_test_'+str(i)+'.csv', index=False)"
   ]
  },
  {
   "cell_type": "code",
   "execution_count": null,
   "id": "70fa5f7c",
   "metadata": {},
   "outputs": [],
   "source": []
  }
 ],
 "metadata": {
  "kernelspec": {
   "display_name": "Python 3 (ipykernel)",
   "language": "python",
   "name": "python3"
  },
  "language_info": {
   "codemirror_mode": {
    "name": "ipython",
    "version": 3
   },
   "file_extension": ".py",
   "mimetype": "text/x-python",
   "name": "python",
   "nbconvert_exporter": "python",
   "pygments_lexer": "ipython3",
   "version": "3.10.9"
  }
 },
 "nbformat": 4,
 "nbformat_minor": 5
}
